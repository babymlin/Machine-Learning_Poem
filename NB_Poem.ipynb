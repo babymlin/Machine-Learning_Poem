{
 "cells": [
  {
   "cell_type": "code",
   "execution_count": 1,
   "id": "070ed2f7",
   "metadata": {},
   "outputs": [
    {
     "data": {
      "text/html": [
       "<div>\n",
       "<style scoped>\n",
       "    .dataframe tbody tr th:only-of-type {\n",
       "        vertical-align: middle;\n",
       "    }\n",
       "\n",
       "    .dataframe tbody tr th {\n",
       "        vertical-align: top;\n",
       "    }\n",
       "\n",
       "    .dataframe thead th {\n",
       "        text-align: right;\n",
       "    }\n",
       "</style>\n",
       "<table border=\"1\" class=\"dataframe\">\n",
       "  <thead>\n",
       "    <tr style=\"text-align: right;\">\n",
       "      <th></th>\n",
       "      <th>作者</th>\n",
       "      <th>詩名</th>\n",
       "      <th>內容</th>\n",
       "    </tr>\n",
       "  </thead>\n",
       "  <tbody>\n",
       "    <tr>\n",
       "      <th>0</th>\n",
       "      <td>李白</td>\n",
       "      <td>菩薩蠻·平林漠漠煙如織</td>\n",
       "      <td>平林漠漠煙如織，寒山一帶傷心碧。\\r\\n暝色入高樓，有人樓上愁。玉階空佇立，宿鳥歸飛急。\\r...</td>\n",
       "    </tr>\n",
       "    <tr>\n",
       "      <th>1</th>\n",
       "      <td>李白</td>\n",
       "      <td>把酒問月</td>\n",
       "      <td>青天有月來幾時，我今停杯一問之：人攀明月不可得，月行卻與人相隨？皎如飛鏡臨丹闕，綠煙滅儘清輝...</td>\n",
       "    </tr>\n",
       "    <tr>\n",
       "      <th>2</th>\n",
       "      <td>李白</td>\n",
       "      <td>春思</td>\n",
       "      <td>燕草如碧絲，秦桑低綠枝。當君懷歸日，是妾斷腸時。春風不相識，何事入羅幃。</td>\n",
       "    </tr>\n",
       "    <tr>\n",
       "      <th>3</th>\n",
       "      <td>李白</td>\n",
       "      <td>春夜洛城聞笛</td>\n",
       "      <td>誰家玉笛暗飛聲，散入春風滿洛城。此夜曲中聞折柳，何人不起故園情。</td>\n",
       "    </tr>\n",
       "    <tr>\n",
       "      <th>4</th>\n",
       "      <td>李白</td>\n",
       "      <td>古風 其十九</td>\n",
       "      <td>西上蓮花山，迢迢見明星。(西上 一作：西嶽)素手把芙蓉，虛步躡太清。霓裳曳廣帶，飄拂升天行。...</td>\n",
       "    </tr>\n",
       "    <tr>\n",
       "      <th>...</th>\n",
       "      <td>...</td>\n",
       "      <td>...</td>\n",
       "      <td>...</td>\n",
       "    </tr>\n",
       "    <tr>\n",
       "      <th>2726</th>\n",
       "      <td>白居易</td>\n",
       "      <td>彆元九後詠所懷</td>\n",
       "      <td>零落桐葉雨，蕭條槿花風。悠悠早秋意，生此幽閒中。況與故人彆，中懷正無悰。勿雲不相送，心到青門...</td>\n",
       "    </tr>\n",
       "    <tr>\n",
       "      <th>2727</th>\n",
       "      <td>白居易</td>\n",
       "      <td>早秋曲江感懷</td>\n",
       "      <td>離離暑雲散，嫋嫋涼風起。池上秋又來，荷花半成子。朱顏易銷歇，白日無窮已。人壽不如山，年光急於...</td>\n",
       "    </tr>\n",
       "    <tr>\n",
       "      <th>2728</th>\n",
       "      <td>白居易</td>\n",
       "      <td>東墟晚歇　時退居渭村。</td>\n",
       "      <td>涼風冷露蕭索天，黃蒿紫菊荒涼田。繞塚秋花少顏色，細蟲小蝶飛翻翻。中有騰騰獨行者，手拄漁竿不騎...</td>\n",
       "    </tr>\n",
       "    <tr>\n",
       "      <th>2729</th>\n",
       "      <td>白居易</td>\n",
       "      <td>南秦雪</td>\n",
       "      <td>往歲曾為西邑吏，慣從駱口到南秦。\\r\\n三時雲冷多飛雪，二月山寒少有春。\\r\\n我思舊事猶惆...</td>\n",
       "    </tr>\n",
       "    <tr>\n",
       "      <th>2730</th>\n",
       "      <td>白居易</td>\n",
       "      <td>寄蘄州簟與元九因題六韻　時元九鰥居。</td>\n",
       "      <td>笛竹出蘄春，霜刀劈翠筠。織成雙鎖簟，寄與獨眠人。卷作筒中信，舒為席上珍。滑如鋪薤葉，冷似臥龍...</td>\n",
       "    </tr>\n",
       "  </tbody>\n",
       "</table>\n",
       "<p>2731 rows × 3 columns</p>\n",
       "</div>"
      ],
      "text/plain": [
       "       作者                  詩名  \\\n",
       "0      李白         菩薩蠻·平林漠漠煙如織   \n",
       "1      李白                把酒問月   \n",
       "2      李白                  春思   \n",
       "3      李白              春夜洛城聞笛   \n",
       "4      李白              古風 其十九   \n",
       "...   ...                 ...   \n",
       "2726  白居易             彆元九後詠所懷   \n",
       "2727  白居易              早秋曲江感懷   \n",
       "2728  白居易         東墟晚歇　時退居渭村。   \n",
       "2729  白居易                 南秦雪   \n",
       "2730  白居易  寄蘄州簟與元九因題六韻　時元九鰥居。   \n",
       "\n",
       "                                                     內容  \n",
       "0     平林漠漠煙如織，寒山一帶傷心碧。\\r\\n暝色入高樓，有人樓上愁。玉階空佇立，宿鳥歸飛急。\\r...  \n",
       "1     青天有月來幾時，我今停杯一問之：人攀明月不可得，月行卻與人相隨？皎如飛鏡臨丹闕，綠煙滅儘清輝...  \n",
       "2                  燕草如碧絲，秦桑低綠枝。當君懷歸日，是妾斷腸時。春風不相識，何事入羅幃。  \n",
       "3                      誰家玉笛暗飛聲，散入春風滿洛城。此夜曲中聞折柳，何人不起故園情。  \n",
       "4     西上蓮花山，迢迢見明星。(西上 一作：西嶽)素手把芙蓉，虛步躡太清。霓裳曳廣帶，飄拂升天行。...  \n",
       "...                                                 ...  \n",
       "2726  零落桐葉雨，蕭條槿花風。悠悠早秋意，生此幽閒中。況與故人彆，中懷正無悰。勿雲不相送，心到青門...  \n",
       "2727  離離暑雲散，嫋嫋涼風起。池上秋又來，荷花半成子。朱顏易銷歇，白日無窮已。人壽不如山，年光急於...  \n",
       "2728  涼風冷露蕭索天，黃蒿紫菊荒涼田。繞塚秋花少顏色，細蟲小蝶飛翻翻。中有騰騰獨行者，手拄漁竿不騎...  \n",
       "2729  往歲曾為西邑吏，慣從駱口到南秦。\\r\\n三時雲冷多飛雪，二月山寒少有春。\\r\\n我思舊事猶惆...  \n",
       "2730  笛竹出蘄春，霜刀劈翠筠。織成雙鎖簟，寄與獨眠人。卷作筒中信，舒為席上珍。滑如鋪薤葉，冷似臥龍...  \n",
       "\n",
       "[2731 rows x 3 columns]"
      ]
     },
     "execution_count": 1,
     "metadata": {},
     "output_type": "execute_result"
    }
   ],
   "source": [
    "import jieba\n",
    "import pandas as pd\n",
    "X_train = pd.read_csv(\"poem_train.csv\")\n",
    "X_test = pd.read_csv(\"poem_test.csv\")\n",
    "y_train = X_train[\"作者\"]\n",
    "y_test = X_test[\"作者\"]\n",
    "X_train"
   ]
  },
  {
   "cell_type": "code",
   "execution_count": 2,
   "id": "2f318fd0",
   "metadata": {},
   "outputs": [
    {
     "data": {
      "text/plain": [
       "'\\n老師教的LabelEncoder版本：\\nu = X_train[\"作者\"].unique()\\nname2index = {n:i for i, n in enumerate(u)}\\nindex2name = {i:n for i, n in enumerate(u)}\\ny_train = y_train.replace(name2index)\\ny_test = y_train.replace(name2index)\\n'"
      ]
     },
     "execution_count": 2,
     "metadata": {},
     "output_type": "execute_result"
    }
   ],
   "source": [
    "\"\"\"\n",
    "老師教的LabelEncoder版本：\n",
    "u = X_train[\"作者\"].unique()\n",
    "name2index = {n:i for i, n in enumerate(u)}\n",
    "index2name = {i:n for i, n in enumerate(u)}\n",
    "y_train = y_train.replace(name2index)\n",
    "y_test = y_train.replace(name2index)\n",
    "\"\"\""
   ]
  },
  {
   "cell_type": "code",
   "execution_count": 3,
   "id": "c6c2d46d",
   "metadata": {},
   "outputs": [],
   "source": [
    "from sklearn.preprocessing import LabelEncoder\n",
    "le = LabelEncoder()\n",
    "y_train = le.fit_transform(y_train)\n",
    "y_test = le.transform(y_test)"
   ]
  },
  {
   "cell_type": "code",
   "execution_count": 4,
   "id": "4e8d3677",
   "metadata": {},
   "outputs": [
    {
     "name": "stderr",
     "output_type": "stream",
     "text": [
      "Building prefix dict from the default dictionary ...\n",
      "Loading model from cache R:\\TEMP\\jieba.cache\n",
      "Loading model cost 0.939 seconds.\n",
      "Prefix dict has been built successfully.\n"
     ]
    }
   ],
   "source": [
    "# temp = X_train.iloc[1, 2]\n",
    "# strings = \" \".join(jieba.cut(temp)))\n",
    "# print(X_train[\"內容\"])\n",
    "\n",
    "def poem2split(s):\n",
    "    s = s.replace(\"\\r\", \"\").replace(\"\\n\", \"\")\n",
    "    return \" \".join(jieba.cut(s))\n",
    "# print(poem2split(temp))\n",
    "X_train[\"內容\"] = X_train[\"內容\"].apply(poem2split)\n",
    "X_test[\"內容\"] = X_test[\"內容\"].apply(poem2split)"
   ]
  },
  {
   "cell_type": "code",
   "execution_count": 5,
   "id": "0d0dbdd5",
   "metadata": {},
   "outputs": [
    {
     "name": "stdout",
     "output_type": "stream",
     "text": [
      "預測結果: [0, 0, 0, 0, 0, 2, 0, 0, 0, 1, 1, 1, 1, 1, 1, 1, 2, 1, 1, 1, 0, 2, 2, 2, 2, 2, 2, 2, 2, 1]\n",
      "正確結果: [0, 0, 0, 0, 0, 0, 0, 0, 0, 0, 1, 1, 1, 1, 1, 1, 1, 1, 1, 1, 2, 2, 2, 2, 2, 2, 2, 2, 2, 2]\n",
      "正確率: 0.8333333333333334\n"
     ]
    }
   ],
   "source": [
    "from sklearn.feature_extraction.text import CountVectorizer\n",
    "vec = CountVectorizer()\n",
    "tranvec = vec.fit_transform(X_train[\"內容\"]) #稀疏矩陣，只保存有數值資料，儉省RAM空間\n",
    "testvec = vec.transform(X_test[\"內容\"])\n",
    "# print(tranvec)\n",
    "# temp = vec.vocabulary_\n",
    "\n",
    "from sklearn.naive_bayes import MultinomialNB\n",
    "clf = MultinomialNB(alpha = 1e-5)\n",
    "clf.fit(tranvec, y_train)\n",
    "\n",
    "predict = clf.predict(testvec)\n",
    "print(\"預測結果:\", list(predict))\n",
    "print(\"正確結果:\", list(y_test))\n",
    "print(\"正確率:\", clf.score(testvec, y_test))"
   ]
  },
  {
   "cell_type": "code",
   "execution_count": 6,
   "id": "3431af73",
   "metadata": {},
   "outputs": [
    {
     "data": {
      "text/html": [
       "<div>\n",
       "<style scoped>\n",
       "    .dataframe tbody tr th:only-of-type {\n",
       "        vertical-align: middle;\n",
       "    }\n",
       "\n",
       "    .dataframe tbody tr th {\n",
       "        vertical-align: top;\n",
       "    }\n",
       "\n",
       "    .dataframe thead th {\n",
       "        text-align: right;\n",
       "    }\n",
       "</style>\n",
       "<table border=\"1\" class=\"dataframe\">\n",
       "  <thead>\n",
       "    <tr style=\"text-align: right;\">\n",
       "      <th></th>\n",
       "      <th>李白(預測)</th>\n",
       "      <th>杜甫(預測)</th>\n",
       "      <th>白居易(預測)</th>\n",
       "    </tr>\n",
       "  </thead>\n",
       "  <tbody>\n",
       "    <tr>\n",
       "      <th>李白(實際)</th>\n",
       "      <td>8</td>\n",
       "      <td>1</td>\n",
       "      <td>1</td>\n",
       "    </tr>\n",
       "    <tr>\n",
       "      <th>杜甫(實際)</th>\n",
       "      <td>0</td>\n",
       "      <td>9</td>\n",
       "      <td>1</td>\n",
       "    </tr>\n",
       "    <tr>\n",
       "      <th>白居易(實際)</th>\n",
       "      <td>1</td>\n",
       "      <td>1</td>\n",
       "      <td>8</td>\n",
       "    </tr>\n",
       "  </tbody>\n",
       "</table>\n",
       "</div>"
      ],
      "text/plain": [
       "         李白(預測)  杜甫(預測)  白居易(預測)\n",
       "李白(實際)        8       1        1\n",
       "杜甫(實際)        0       9        1\n",
       "白居易(實際)       1       1        8"
      ]
     },
     "execution_count": 6,
     "metadata": {},
     "output_type": "execute_result"
    }
   ],
   "source": [
    "import numpy as np\n",
    "name_array = [name for name in le.inverse_transform(np.array([0,1,2]))]\n",
    "\n",
    "#劃出混淆矩陣\n",
    "from sklearn.metrics import confusion_matrix\n",
    "mat = confusion_matrix(y_test, clf.predict(testvec))\n",
    "pd.DataFrame(mat,\n",
    "             columns = [f\"{name}(預測)\" for name in name_array],\n",
    "             index = [f\"{name}(實際)\" for name in name_array]\n",
    "            )"
   ]
  },
  {
   "cell_type": "code",
   "execution_count": 7,
   "id": "21046fa5",
   "metadata": {},
   "outputs": [],
   "source": [
    "def poem_predict():\n",
    "    inp = input(\"請輸入文字:\")\n",
    "    inpsplit = poem2split(inp)\n",
    "    inpvec = vec.transform([inpsplit])\n",
    "    return le.inverse_transform(clf.predict(inpvec))[0]\n",
    "\n",
    "def poem_predict_all():\n",
    "    inp = input(\"請輸入文字：\")\n",
    "    inpsplit = poem2split(inp)\n",
    "    inpvec = vec.transform([inpsplit])\n",
    "    pre = clf.predict_proba(inpvec)[0]\n",
    "    result = []\n",
    "    for name, proba in zip(name_array, pre):\n",
    "        result.append(f\"{name}機率： {proba:.2f}\")\n",
    "    return result"
   ]
  },
  {
   "cell_type": "code",
   "execution_count": 8,
   "id": "38ab3948",
   "metadata": {},
   "outputs": [
    {
     "name": "stdout",
     "output_type": "stream",
     "text": [
      "請輸入文字:黃金海岸的岸邊 我們肩並著肩 潔淨的藍天 清澈的水面 吻成一條海平線 看你溫柔的雙眼 彈著吉他的弦 歌詞是諾言 旋律是依戀 唱出一首五月天  五月的天 剛誕生的夏天 我們之間 才完成的愛戀 緊握的手裡面 有好多明天 五月的天 夢開始要鮮豔 前方蜿蜒 一長串的心願 我們一天一天 慢慢實現  大雨沖走了昨天 青春烏雲幾片 彩虹的旁邊 有星星幾點 迫不及待在眨眼 海風味道變香甜 沙灘鑲滿亮片 你哼著永遠 我和著不變,合唱一首五月天\n",
      "白居易\n"
     ]
    }
   ],
   "source": [
    "if __name__ == \"__main__\":\n",
    "    print(poem_predict())"
   ]
  },
  {
   "cell_type": "code",
   "execution_count": 9,
   "id": "44742cc2",
   "metadata": {},
   "outputs": [
    {
     "name": "stdout",
     "output_type": "stream",
     "text": [
      "請輸入文字：黃金海岸的岸邊 我們肩並著肩 潔淨的藍天 清澈的水面 吻成一條海平線 看你溫柔的雙眼 彈著吉他的弦 歌詞是諾言 旋律是依戀 唱出一首五月天  五月的天 剛誕生的夏天 我們之間 才完成的愛戀 緊握的手裡面 有好多明天 五月的天 夢開始要鮮豔 前方蜿蜒 一長串的心願 我們一天一天 慢慢實現  大雨沖走了昨天 青春烏雲幾片 彩虹的旁邊 有星星幾點 迫不及待在眨眼 海風味道變香甜 沙灘鑲滿亮片 你哼著永遠 我和著不變,合唱一首五月天\n",
      "['李白機率： 0.05', '杜甫機率： 0.00', '白居易機率： 0.95']\n"
     ]
    }
   ],
   "source": [
    "if __name__ == \"__main__\":\n",
    "    print(poem_predict_all())"
   ]
  }
 ],
 "metadata": {
  "kernelspec": {
   "display_name": "Python3[Base]",
   "language": "python",
   "name": "python3"
  },
  "language_info": {
   "codemirror_mode": {
    "name": "ipython",
    "version": 3
   },
   "file_extension": ".py",
   "mimetype": "text/x-python",
   "name": "python",
   "nbconvert_exporter": "python",
   "pygments_lexer": "ipython3",
   "version": "3.8.10"
  }
 },
 "nbformat": 4,
 "nbformat_minor": 5
}
